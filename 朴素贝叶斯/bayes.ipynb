{
 "cells": [
  {
   "cell_type": "code",
   "execution_count": 1,
   "metadata": {},
   "outputs": [],
   "source": [
    "import numpy as np\n",
    "import re\n",
    "import random\n",
    "\n",
    "# 创建一些实验样本\n",
    "def loadDataSet():\n",
    "    postingList=[['my', 'dog', 'has', 'flea', 'problems', 'help', 'please'],\n",
    "                 ['maybe', 'not', 'take', 'him', 'to', 'dog', 'park', 'stupid'],\n",
    "                 ['my', 'dalmation', 'is', 'so', 'cute', 'I', 'love', 'him'],\n",
    "                 ['stop', 'posting', 'stupid', 'worthless', 'garbage'],\n",
    "                 ['mr', 'licks', 'ate', 'my', 'steak', 'how', 'to', 'stop', 'him'],\n",
    "                 ['quit', 'buying', 'worthless', 'dog', 'food', 'stupid']]\n",
    "    classVec = [0,1,0,1,0,1]    #1 is abusive, 0 not\n",
    "    return postingList,classVec\n"
   ]
  },
  {
   "cell_type": "code",
   "execution_count": 2,
   "metadata": {},
   "outputs": [],
   "source": [
    "# 创建词典\n",
    "def createVocabList(dataSet):\n",
    "    vocabSet = set([])\n",
    "    for document in dataSet:\n",
    "        vocabSet = vocabSet | set(document)\n",
    "    return vocabSet\n",
    "    "
   ]
  },
  {
   "cell_type": "code",
   "execution_count": 3,
   "metadata": {},
   "outputs": [],
   "source": [
    "# 输出文档向量，vocabList中的单词同时在inputSet中存在为1，否则为0\n",
    "\n",
    "# 词集模型，即将每个词出现与否作为一个特征，出现多次和出现一次效果相同\n",
    "def setOfWords2Vec(vocabList, inputSet):\n",
    "    returnVec = [0]*len(vocabList)\n",
    "    for word in inputSet:\n",
    "        if word in vocabList:\n",
    "            returnVec[list(vocabList).index(word)] = 1\n",
    "        else: print(\"the word: %s is not in my Vocabulary!\" % word)\n",
    "    return returnVec\n",
    "\n",
    "\n",
    "#词袋模型，即将每个词出现次数作为特征值，出现一次和出现多次效果不同\n",
    "def bagOfWords2Vec(vocabList, inputSet):\n",
    "    returnVec = [0]*len(vocabList)\n",
    "    for word in inputSet:\n",
    "        if word in vocabList:\n",
    "            returnVec[list(vocabList).index(word)] += 1\n",
    "        else: print(\"the word: %s is not in my Vocabulary!\" % word)\n",
    "    return returnVec"
   ]
  },
  {
   "cell_type": "code",
   "execution_count": 4,
   "metadata": {},
   "outputs": [],
   "source": [
    "# 训练样本\n",
    "def trainNB0(trainMatrix, trainCategory):\n",
    "    numTrainDocs = len(trainMatrix)\n",
    "    numWords = len(trainMatrix[0])\n",
    "    pAbusive = sum(trainCategory) / float(numTrainDocs)\n",
    "    ''' \n",
    "    利用贝叶斯进行分类时，需要计算多个概率的乘积，若有概率为0，则最后乘积也为0\n",
    "    为了降低这种情况的发生，将每个文档中每个单词出现的次数初始化为1\n",
    "    并且将分母初始化为2\n",
    "    '''\n",
    "    p0Denom = np.ones(numWords)\n",
    "    p1Denom = np.ones(numWords)\n",
    "    p0Sum = 2.0\n",
    "    p1Sum = 2.0\n",
    "    \n",
    "    for i in range(numTrainDocs):\n",
    "        if trainCategory[i] == 1:\n",
    "            p1Denom += trainMatrix[i]\n",
    "            p1Sum += sum(trainMatrix[i])\n",
    "        else:\n",
    "            p0Denom += trainMatrix[i]\n",
    "            p0Sum += sum(trainMatrix[i])\n",
    "    # 概率向量的每个元素都很小，后边需要这些元素相乘，所以为了防止向下溢出，对此处概率取对数\n",
    "    p0Denom = np.log(p0Denom / p0Sum)\n",
    "    p1Denom = np.log(p1Denom / p1Sum)\n",
    "    \n",
    "    return p0Denom, p1Denom, pAbusive\n"
   ]
  },
  {
   "cell_type": "code",
   "execution_count": 5,
   "metadata": {},
   "outputs": [],
   "source": [
    "def classifyNB(vec2Classify, p0Vec, p1Vec, pClass1):\n",
    "    p1 = sum(p1Vec * vec2Classify) + np.log(pClass1)\n",
    "    p0 = sum(p0Vec * vec2Classify) + np.log(1 - pClass1)\n",
    "    if p1 > p0:\n",
    "        return 1\n",
    "    else:\n",
    "        return 0\n",
    "\n",
    "# just for test\n",
    "def testNB():\n",
    "    listOposts, listClasses = loadDataSet()\n",
    "    myVocabList = createVocabList(listOposts)\n",
    "    trainMatrix = []\n",
    "    for postinDoc in listOposts:\n",
    "        trainMatrix.append(setOfWords2Vec(myVocabList, postinDoc))\n",
    "    p0, p1, pAbusive = trainNB0(trainMatrix, listClasses)\n",
    "    \n",
    "    testDoc = ['my', 'food']\n",
    "    testVec = np.array(setOfWords2Vec(myVocabList, testDoc))\n",
    "    print(testDoc, \"the class is:%d\" % classifyNB(testVec, p0, p1, pAbusive))\n"
   ]
  },
  {
   "cell_type": "code",
   "execution_count": 6,
   "metadata": {},
   "outputs": [
    {
     "name": "stdout",
     "output_type": "stream",
     "text": [
      "total rate: 0.05\n"
     ]
    }
   ],
   "source": [
    "# 将文本转化为所需要的格式\n",
    "def textParse(bigString):\n",
    "    # ！！！注意此处，书中代码有错误，将 re.split(r'\\W*', bigString) 改为 re.split(r'\\W+', bigString)\n",
    "    listOfTokens = re.split(r'\\W+', bigString) # 利用正则表达式，只读取字母和数字\n",
    "    ret = [tok.lower() for tok in listOfTokens if len(tok) > 2] # 返回长度大于2的单词的小写形式\n",
    "    return ret\n",
    "\n",
    "# 利用垃圾邮件分类对朴素贝叶斯进行测试\n",
    "def spamTest():\n",
    "    docList = []; fullTest = []; classList = []\n",
    "    for i in range(1, 26): #读取文件\n",
    "        fr = open('email/spam/%d.txt' % i)\n",
    "        doc = fr.read()\n",
    "        wordList = textParse(doc) # 读取垃圾邮件并转化为我们所需要的格式\n",
    "        docList.append(wordList)\n",
    "        fullTest.extend(wordList)\n",
    "        classList.append(1)\n",
    "        \n",
    "        wordList = textParse(open('email/ham/%d.txt' % i).read()) # 读取非垃圾邮件并转化为我们所需要的格式\n",
    "        docList.append(wordList)\n",
    "        fullTest.extend(wordList)\n",
    "        classList.append(0)\n",
    "\n",
    "    vocabList = createVocabList(docList) # 创建词典\n",
    "    trainingSet = list(range(50))\n",
    "    testSet = []\n",
    "    for i in range(10):\n",
    "        randIndex = int(random.uniform(0, len(trainingSet)))\n",
    "        testSet.append(trainingSet[randIndex])\n",
    "        del(trainingSet[randIndex])\n",
    "        \n",
    "    trainMat = []; trainClasses = []\n",
    "    for docIndex in trainingSet:\n",
    "        trainMat.append(setOfWords2Vec(vocabList, docList[docIndex]))\n",
    "        trainClasses.append(classList[docIndex])\n",
    "    \n",
    "    # 开始训练\n",
    "    p0V, p1V, pSpam = trainNB0(trainMat, trainClasses)\n",
    "    errorCount = 0\n",
    "    for docIndex in testSet:\n",
    "        testVec = setOfWords2Vec(vocabList, docList[docIndex])\n",
    "        if classifyNB(np.array(testVec), p0V, p1V, pSpam) != classList[docIndex]:\n",
    "            errorCount += 1\n",
    "    rate = float(errorCount) / float(len(testSet))\n",
    "    #print(\"the error rate is: \", rate)\n",
    "    return rate\n",
    "\n",
    "s = 0.0\n",
    "for i in range(10):\n",
    "    s += spamTest()\n",
    "print('total rate:', s / 10.0)"
   ]
  },
  {
   "cell_type": "code",
   "execution_count": 7,
   "metadata": {},
   "outputs": [
    {
     "data": {
      "text/plain": [
       "<Figure size 640x480 with 1 Axes>"
      ]
     },
     "metadata": {},
     "output_type": "display_data"
    }
   ],
   "source": []
  },
  {
   "cell_type": "code",
   "execution_count": null,
   "metadata": {},
   "outputs": [],
   "source": []
  },
  {
   "cell_type": "code",
   "execution_count": null,
   "metadata": {},
   "outputs": [],
   "source": []
  }
 ],
 "metadata": {
  "kernelspec": {
   "display_name": "Python 3",
   "language": "python",
   "name": "python3"
  },
  "language_info": {
   "codemirror_mode": {
    "name": "ipython",
    "version": 3
   },
   "file_extension": ".py",
   "mimetype": "text/x-python",
   "name": "python",
   "nbconvert_exporter": "python",
   "pygments_lexer": "ipython3",
   "version": "3.7.0"
  }
 },
 "nbformat": 4,
 "nbformat_minor": 2
}
