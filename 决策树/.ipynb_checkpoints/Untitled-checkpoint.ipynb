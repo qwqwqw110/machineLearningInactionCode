{
 "cells": [
  {
   "cell_type": "code",
   "execution_count": 1,
   "metadata": {},
   "outputs": [],
   "source": [
    "from math import log\n",
    "import pickle\n",
    "\n",
    "#计算香农熵\n",
    "def calcShannonEnt(dataSet):\n",
    "    numEntries = len(dataSet)\n",
    "    labelCounts = { }\n",
    "    # 统计每个label数据集的个数\n",
    "    for featVec in dataSet:\n",
    "        currentLabel = featVec[-1]\n",
    "        if(currentLabel not in labelCounts.keys()):\n",
    "            labelCounts[currentLabel] = 0\n",
    "        labelCounts[currentLabel] += 1\n",
    "    # 计算香农熵\n",
    "    shannonEnt = 0.0\n",
    "    for key in labelCounts:\n",
    "        prob = float(labelCounts[key]) / float(numEntries);\n",
    "        shannonEnt -= prob * log(prob, 2)\n",
    "        \n",
    "    return shannonEnt\n",
    "        "
   ]
  },
  {
   "cell_type": "code",
   "execution_count": 2,
   "metadata": {},
   "outputs": [],
   "source": [
    "#creat data set just for test funcations\n",
    "def creatDataSet():\n",
    "    dataSet = [[1, 1, 'yes'],\n",
    "               [1, 1, 'yes'],\n",
    "               [1, 0, 'no'],\n",
    "               [0, 1, 'no'],\n",
    "               [0, 1, 'no']]\n",
    "    labels = ['no surfacing', 'flippers']\n",
    "    return dataSet, labels"
   ]
  },
  {
   "cell_type": "code",
   "execution_count": 3,
   "metadata": {},
   "outputs": [],
   "source": [
    "# 按照给定特征 和 特征值 划分数据集（提取数据集）\n",
    "def splitDataSet(dataSet, axis, value):\n",
    "    retDataSet = []\n",
    "    for i in dataSet:\n",
    "        if i[axis] == value:\n",
    "            dataTemp = i[:axis]\n",
    "            dataTemp.extend(i[axis+1:])\n",
    "            retDataSet.append(dataTemp)\n",
    "\n",
    "    return retDataSet"
   ]
  },
  {
   "cell_type": "code",
   "execution_count": 4,
   "metadata": {},
   "outputs": [],
   "source": [
    "# 利用信息增益寻找最好的数据集划分方式,返回最适合特征值的索引\n",
    "def chooseBestFeatureToSplit(dataSet):\n",
    "    numFeatures = len(dataSet[0]) - 1\n",
    "    # 初始信息熵\n",
    "    baseShannonEnt = calcShannonEnt(dataSet)\n",
    "    # 最大信息熵\n",
    "    bestInfoGain = 0.0\n",
    "    # 最好特征值\n",
    "    bestFeature = -1\n",
    "    # 寻找使得信息增益最大的划分方式\n",
    "    for i in range(numFeatures):\n",
    "        featList = [example[i] for example in dataSet]\n",
    "        uniqueFeatList = set(featList)\n",
    "        newEnt = 0.0\n",
    "        for feature in uniqueFeatList:\n",
    "            subDataSet = splitDataSet(dataSet, i, feature)\n",
    "            prob = float(len(subDataSet)) / float(len(dataSet))\n",
    "            newEnt += prob * calcShannonEnt(subDataSet)\n",
    "            \n",
    "        infoGain = baseShannonEnt - newEnt\n",
    "        if(infoGain > bestInfoGain):\n",
    "            bestInfoGain = infoGain\n",
    "            bestFeature = i\n",
    "            \n",
    "    return bestFeature\n"
   ]
  },
  {
   "cell_type": "code",
   "execution_count": 5,
   "metadata": {},
   "outputs": [],
   "source": [
    "# 当特征值被消耗完，但是剩余数据集并不是同一类时，进行投票\n",
    "def majorityCnt(classList):\n",
    "    classCount = { }\n",
    "    for i in classList:\n",
    "        if (i not in classCount.keys()):\n",
    "            classCount[i] = 0\n",
    "        classCount[i] += 1\n",
    "        \n",
    "    sortedClassCount = sorted(classCount.items(), key = lambda item:item[1], reverse = True)\n",
    "    return sortedClassCount[0][0]"
   ]
  },
  {
   "cell_type": "code",
   "execution_count": 6,
   "metadata": {},
   "outputs": [],
   "source": [
    "# 构造决策树\n",
    "def creatTree(dataSet, label):\n",
    "    labels = label[:]\n",
    "    classList = [example[-1] for example in dataSet]\n",
    "    # 类别完全相同时，停止划分, 返回类别\n",
    "    if classList.count(classList[0]) == len(classList):\n",
    "        return classList[0]\n",
    "    # 当所有特征都已经被消耗完毕\n",
    "    if len(dataSet[0]) == 1:\n",
    "        return majorityCnt(classList)\n",
    "    # 寻找最好的划分特征值\n",
    "    bestFeat = chooseBestFeatureToSplit(dataSet)\n",
    "    bestFeatLabel = labels[bestFeat]\n",
    "    \n",
    "    myTree = {bestFeatLabel:{ }}\n",
    "    del(labels[bestFeat])\n",
    "    \n",
    "    featValues = [example[bestFeat] for example in dataSet]\n",
    "    uniqueFeatValues = set(featValues)\n",
    "    for value in uniqueFeatValues:\n",
    "        subLabels = labels[:]\n",
    "        myTree[bestFeatLabel][value] = creatTree(splitDataSet(dataSet, bestFeat, value), subLabels)\n",
    "        \n",
    "    return myTree\n",
    "\n"
   ]
  },
  {
   "cell_type": "code",
   "execution_count": 7,
   "metadata": {},
   "outputs": [],
   "source": [
    "# 使用构造好的决策树对测试集进行分类\n",
    "def classify(inputTree, featLabels, testVector):\n",
    "    firstStr = list(inputTree.keys())[0]\n",
    "    secondDict = inputTree[firstStr]\n",
    "    featIndex = featLabels.index(firstStr)\n",
    "    for key in secondDict.keys():\n",
    "        if testVector[featIndex] == key:\n",
    "            if type(secondDict[key]).__name__ == 'dict':\n",
    "                classType = classify(secondDict[key], featLabels, testVector)\n",
    "            else:\n",
    "                classType = secondDict[key]\n",
    "    \n",
    "    return classType\n"
   ]
  },
  {
   "cell_type": "code",
   "execution_count": 15,
   "metadata": {},
   "outputs": [],
   "source": [
    "# 存储决策树\n",
    "def storeTree(inputTree, fileName):\n",
    "    fw = open(fileName, 'wb')\n",
    "    pickle.dump(inputTree, fw)\n",
    "    fw.close()\n",
    "\n",
    "    \n",
    "#读取决策树\n",
    "def grabTree(fileName):\n",
    "    fr = open(fileName, 'rb')\n",
    "    return pickle.load(fr)\n"
   ]
  },
  {
   "cell_type": "code",
   "execution_count": 24,
   "metadata": {},
   "outputs": [],
   "source": [
    "fr = open(\"lenses.txt\")\n",
    "allLines = fr.readlines()\n",
    "lensesDataSet = [line.strip().split('\\t') for line in allLines]\n",
    "lensesLabels = ['age', 'prescript', 'astigmatic', 'rearRate']\n",
    "\n",
    "lensesTree = creatTree(lensesDataSet, lensesLabels)\n",
    "\n"
   ]
  },
  {
   "cell_type": "code",
   "execution_count": null,
   "metadata": {},
   "outputs": [],
   "source": []
  }
 ],
 "metadata": {
  "kernelspec": {
   "display_name": "Python 3",
   "language": "python",
   "name": "python3"
  },
  "language_info": {
   "codemirror_mode": {
    "name": "ipython",
    "version": 3
   },
   "file_extension": ".py",
   "mimetype": "text/x-python",
   "name": "python",
   "nbconvert_exporter": "python",
   "pygments_lexer": "ipython3",
   "version": "3.7.0"
  }
 },
 "nbformat": 4,
 "nbformat_minor": 2
}
