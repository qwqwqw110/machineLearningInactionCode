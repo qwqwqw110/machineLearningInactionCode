{
 "cells": [
  {
   "cell_type": "code",
   "execution_count": 1,
   "metadata": {},
   "outputs": [],
   "source": [
    "%matplotlib inline\n",
    "import matplotlib.pyplot as plt\n",
    "import numpy as np\n",
    "import random\n",
    "\n",
    "# 加载数据集\n",
    "def loadDataSet():\n",
    "    dataMat = []\n",
    "    labelMat = []\n",
    "    fr = open('./testSet.txt')\n",
    "    for line in fr.readlines():\n",
    "        lineData = line.strip().split()\n",
    "        dataMat.append([1.0, float(lineData[0]), float(lineData[1])])\n",
    "        labelMat.append(int(lineData[2]))\n",
    "    return dataMat, labelMat\n",
    "\n",
    "\n",
    "# sigmoid 函数\n",
    "def sigmoid(inX):\n",
    "    return 1.0 / (1 + np.exp(-inX))"
   ]
  },
  {
   "cell_type": "code",
   "execution_count": 2,
   "metadata": {},
   "outputs": [],
   "source": [
    "# 梯度上升\n",
    "def gradAscent(dataMatIn, classLabels, maxCycles):\n",
    "    dataMatrix = np.mat(dataMatIn)\n",
    "    labelsMatrix = np.mat(classLabels).transpose() # 转置，将行向量转置为列向量\n",
    "    m, n = np.shape(dataMatrix)\n",
    "    \n",
    "    alpha = 0.001\n",
    "    W = np.ones((n, 1))\n",
    "    for i in range(maxCycles):\n",
    "        h = sigmoid(dataMatrix * W) # (100, 1)\n",
    "        error = labelsMatrix - h # (100, 1)\n",
    "        W = W + alpha * dataMatrix.transpose() * error # (3, 100) * (100, 1)\n",
    "        \n",
    "    return W \n",
    "\n",
    "#改进版随机梯度上升\n",
    "def stocGradAscent1(dataMatrixIn, classLabels, numIter=150):\n",
    "    dataMatrix = np.array(dataMatrixIn)\n",
    "    m,n = np.shape(dataMatrix)\n",
    "    weights = np.ones(n)   #initialize to all ones\n",
    "    for j in range(numIter):\n",
    "        dataIndex = list(range(m))\n",
    "        for i in range(m):\n",
    "            alpha = 4.0/(1.0+j+i)+0.01    #apha decreases with iteration, does not \n",
    "            randIndex = int(random.uniform(0,len(dataIndex)))#go to 0 because of the constant\n",
    "            h = sigmoid(sum(dataMatrix[randIndex]*weights))\n",
    "            error = classLabels[randIndex] - h\n",
    "            weights = weights + alpha * error * dataMatrix[randIndex]\n",
    "            del(dataIndex[randIndex])\n",
    "    return np.mat(weights.reshape(n, 1))\n"
   ]
  },
  {
   "cell_type": "code",
   "execution_count": 3,
   "metadata": {},
   "outputs": [],
   "source": [
    "def plotBestFit(weights, dataMat, labelMat):\n",
    "    dataArr = np.array(dataMat)\n",
    "    n = np.shape(dataArr)[0]\n",
    "    xcord1 = []; ycord1 = []\n",
    "    xcord2 = []; ycord2 = []\n",
    "    for i in range(n):\n",
    "        if labelMat[i] == 1:\n",
    "            xcord1.append(dataArr[i, 1]); ycord1.append(dataArr[i, 2])\n",
    "        else:\n",
    "            xcord2.append(dataArr[i, 1]); ycord2.append(dataArr[i, 2])\n",
    "    \n",
    "    fig = plt.figure()\n",
    "    ax = fig.add_subplot(111)\n",
    "    ax.scatter(xcord1, ycord1, s = 30, c = 'red', marker = 's')\n",
    "    ax.scatter(xcord2, ycord2, s = 30, c = 'green')\n",
    "    x = np.arange(-4.0, 4.0, 0.1)\n",
    "    y = ((np.array((-weights[0] - weights[1] * x) / weights[2]))[0]).transpose()\n",
    "    ax.plot(x, y)\n",
    "    plt.xlabel('X1')\n",
    "    plt.ylabel('X2')\n",
    "    plt.show()"
   ]
  },
  {
   "cell_type": "code",
   "execution_count": 4,
   "metadata": {},
   "outputs": [
    {
     "data": {
      "text/plain": [
       "'\\ndataSet, labels = loadDataSet()\\nweights = stocGradAscent1(dataSet, labels, 200)\\nplotBestFit(weights, dataSet, labels)\\n'"
      ]
     },
     "execution_count": 4,
     "metadata": {},
     "output_type": "execute_result"
    }
   ],
   "source": [
    "'''\n",
    "dataSet, labels = loadDataSet()\n",
    "weights = stocGradAscent1(dataSet, labels, 200)\n",
    "plotBestFit(weights, dataSet, labels)\n",
    "'''"
   ]
  },
  {
   "cell_type": "code",
   "execution_count": 5,
   "metadata": {},
   "outputs": [],
   "source": [
    "# 预测\n",
    "def classifyVector(inX, weights):\n",
    "    prob = sigmoid(sum(inX * weights))\n",
    "    if prob > 0.5:\n",
    "        return 1.0\n",
    "    else:\n",
    "        return 0.0\n",
    "    "
   ]
  },
  {
   "cell_type": "code",
   "execution_count": 6,
   "metadata": {},
   "outputs": [
    {
     "name": "stderr",
     "output_type": "stream",
     "text": [
      "c:\\users\\qw\\appdata\\local\\programs\\python\\python37\\lib\\site-packages\\ipykernel_launcher.py:20: RuntimeWarning: overflow encountered in exp\n"
     ]
    },
    {
     "name": "stdout",
     "output_type": "stream",
     "text": [
      "the error rate is:0.268657\n",
      "the error rate is:0.417910\n",
      "the error rate is:0.522388\n",
      "the error rate is:0.298507\n",
      "the error rate is:0.373134\n",
      "the error rate is:0.343284\n",
      "the error rate is:0.238806\n",
      "the error rate is:0.417910\n",
      "the error rate is:0.358209\n",
      "the error rate is:0.388060\n",
      "the average error rate is:0.362687\n"
     ]
    }
   ],
   "source": [
    "# 对训练集进行训练，并且对测试集进行测试\n",
    "def colicTest():\n",
    "    trainFile = open('horseColicTraining.txt')\n",
    "    testFile = open('horseColicTest.txt')\n",
    "    trainingSet = []; trainingLabels = []\n",
    "    for line in trainFile.readlines():\n",
    "        currLine = line.strip().split('\\t')\n",
    "        lineArr = []\n",
    "        for i in range(21):\n",
    "            lineArr.append(float(currLine[i]))\n",
    "        trainingSet.append(lineArr)\n",
    "        trainingLabels.append(float(currLine[21]))\n",
    "        \n",
    "    # 开始训练\n",
    "    weights = stocGradAscent1(trainingSet, trainingLabels, 400)\n",
    "    errorCount = 0.0\n",
    "    numTestVec = 0.0\n",
    "    for line in testFile.readlines():\n",
    "        numTestVec += 1.0\n",
    "        currLine = line.strip().split('\\t')\n",
    "        lineArr = []\n",
    "        for i in range(21):\n",
    "            lineArr.append(float(currLine[i]))\n",
    "        if int(classifyVector(np.array(lineArr), weights)) != int(currLine[21]):\n",
    "            errorCount += 1.0\n",
    "    errorRate = errorCount / float(numTestVec)\n",
    "    print(\"the error rate is:%f\" % errorRate)\n",
    "    return errorRate\n",
    "\n",
    "\n",
    "# 多次测试求平均值\n",
    "def multiTest():\n",
    "    testTimes = 10\n",
    "    errorRateSum = 0.0\n",
    "    for i in range(testTimes):\n",
    "        errorRateSum += colicTest()\n",
    "    print(\"the average error rate is:%f\" % (errorRateSum / float(testTimes)))\n",
    "    \n",
    "    \n",
    "multiTest()"
   ]
  }
 ],
 "metadata": {
  "kernelspec": {
   "display_name": "Python 3",
   "language": "python",
   "name": "python3"
  },
  "language_info": {
   "codemirror_mode": {
    "name": "ipython",
    "version": 3
   },
   "file_extension": ".py",
   "mimetype": "text/x-python",
   "name": "python",
   "nbconvert_exporter": "python",
   "pygments_lexer": "ipython3",
   "version": "3.7.0"
  }
 },
 "nbformat": 4,
 "nbformat_minor": 2
}
